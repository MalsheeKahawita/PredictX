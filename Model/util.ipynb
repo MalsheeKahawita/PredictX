{
 "cells": [
  {
   "cell_type": "code",
   "execution_count": 20,
   "metadata": {},
   "outputs": [],
   "source": [
    "import pickle\n",
    "import numpy as np"
   ]
  },
  {
   "cell_type": "code",
   "execution_count": 21,
   "metadata": {},
   "outputs": [
    {
     "name": "stdout",
     "output_type": "stream",
     "text": [
      "Requirement already satisfied: networkx in c:\\users\\pasindu senanayake\\appdata\\local\\programs\\python\\python310\\lib\\site-packages (2.8.7)\n"
     ]
    },
    {
     "name": "stderr",
     "output_type": "stream",
     "text": [
      "WARNING: You are using pip version 22.0.4; however, version 22.3 is available.\n",
      "You should consider upgrading via the 'C:\\Users\\Pasindu Senanayake\\AppData\\Local\\Programs\\Python\\Python310\\python.exe -m pip install --upgrade pip' command.\n"
     ]
    }
   ],
   "source": [
    "!pip install networkx"
   ]
  },
  {
   "cell_type": "code",
   "execution_count": 22,
   "metadata": {},
   "outputs": [],
   "source": [
    "import networkx as nx\n",
    "from matplotlib import pyplot as plt"
   ]
  },
  {
   "cell_type": "code",
   "execution_count": 23,
   "metadata": {},
   "outputs": [],
   "source": [
    "def recommend_product(item_list):\n",
    "    rules = pickle.load(open('rules.pkl', 'rb'))\n",
    "    rules['antecedent'] = rules['antecedents'].apply(lambda antecedent: list(antecedent))\n",
    "    rules['consequent'] = rules['consequents'].apply(lambda consequent: list(consequent))\n",
    "    rules['rule'] = rules.index\n",
    "    print(rules['antecedent'])\n",
    "\n",
    "    cons_list = []\n",
    "    for i in range(1, len(rules)):\n",
    "        check = all(item in (rules['antecedent'][i]) for item in item_list)\n",
    "        if check is True:\n",
    "            c_list = set(list(rules['consequents'])[i])\n",
    "            cons_list.append(c_list)\n",
    "    print(cons_list)\n",
    "    return cons_list"
   ]
  }
 ],
 "metadata": {
  "kernelspec": {
   "display_name": "Python 3.10.5 64-bit",
   "language": "python",
   "name": "python3"
  },
  "language_info": {
   "codemirror_mode": {
    "name": "ipython",
    "version": 3
   },
   "file_extension": ".py",
   "mimetype": "text/x-python",
   "name": "python",
   "nbconvert_exporter": "python",
   "pygments_lexer": "ipython3",
   "version": "3.10.5"
  },
  "orig_nbformat": 4,
  "vscode": {
   "interpreter": {
    "hash": "167c27fbef304fbc8a1090e198819689110ce703c2d06457c5b3978cca494ca7"
   }
  }
 },
 "nbformat": 4,
 "nbformat_minor": 2
}
