{
 "cells": [
  {
   "cell_type": "code",
   "execution_count": 1,
   "metadata": {},
   "outputs": [],
   "source": [
    "import pickle\n",
    "import pandas as pd"
   ]
  },
  {
   "cell_type": "code",
   "execution_count": 2,
   "metadata": {},
   "outputs": [
    {
     "name": "stdout",
     "output_type": "stream",
     "text": [
      "Requirement already satisfied: mlxtend in c:\\users\\pasindu senanayake\\appdata\\local\\programs\\python\\python310\\lib\\site-packages (0.21.0)\n",
      "Requirement already satisfied: numpy>=1.16.2 in c:\\users\\pasindu senanayake\\appdata\\local\\programs\\python\\python310\\lib\\site-packages (from mlxtend) (1.23.3)\n",
      "Requirement already satisfied: joblib>=0.13.2 in c:\\users\\pasindu senanayake\\appdata\\local\\programs\\python\\python310\\lib\\site-packages (from mlxtend) (1.2.0)\n",
      "Requirement already satisfied: scipy>=1.2.1 in c:\\users\\pasindu senanayake\\appdata\\local\\programs\\python\\python310\\lib\\site-packages (from mlxtend) (1.9.1)\n",
      "Requirement already satisfied: pandas>=0.24.2 in c:\\users\\pasindu senanayake\\appdata\\local\\programs\\python\\python310\\lib\\site-packages (from mlxtend) (1.5.0)\n",
      "Requirement already satisfied: scikit-learn>=1.0.2 in c:\\users\\pasindu senanayake\\appdata\\local\\programs\\python\\python310\\lib\\site-packages (from mlxtend) (1.1.2)\n",
      "Requirement already satisfied: setuptools in c:\\users\\pasindu senanayake\\appdata\\local\\programs\\python\\python310\\lib\\site-packages (from mlxtend) (58.1.0)\n",
      "Requirement already satisfied: matplotlib>=3.0.0 in c:\\users\\pasindu senanayake\\appdata\\local\\programs\\python\\python310\\lib\\site-packages (from mlxtend) (3.6.1)\n",
      "Requirement already satisfied: pillow>=6.2.0 in c:\\users\\pasindu senanayake\\appdata\\local\\programs\\python\\python310\\lib\\site-packages (from matplotlib>=3.0.0->mlxtend) (9.2.0)\n",
      "Requirement already satisfied: pyparsing>=2.2.1 in c:\\users\\pasindu senanayake\\appdata\\roaming\\python\\python310\\site-packages (from matplotlib>=3.0.0->mlxtend) (3.0.9)\n",
      "Requirement already satisfied: contourpy>=1.0.1 in c:\\users\\pasindu senanayake\\appdata\\local\\programs\\python\\python310\\lib\\site-packages (from matplotlib>=3.0.0->mlxtend) (1.0.5)\n",
      "Requirement already satisfied: python-dateutil>=2.7 in c:\\users\\pasindu senanayake\\appdata\\roaming\\python\\python310\\site-packages (from matplotlib>=3.0.0->mlxtend) (2.8.2)\n",
      "Requirement already satisfied: fonttools>=4.22.0 in c:\\users\\pasindu senanayake\\appdata\\local\\programs\\python\\python310\\lib\\site-packages (from matplotlib>=3.0.0->mlxtend) (4.37.4)\n",
      "Requirement already satisfied: cycler>=0.10 in c:\\users\\pasindu senanayake\\appdata\\local\\programs\\python\\python310\\lib\\site-packages (from matplotlib>=3.0.0->mlxtend) (0.11.0)\n",
      "Requirement already satisfied: kiwisolver>=1.0.1 in c:\\users\\pasindu senanayake\\appdata\\local\\programs\\python\\python310\\lib\\site-packages (from matplotlib>=3.0.0->mlxtend) (1.4.4)\n",
      "Requirement already satisfied: packaging>=20.0 in c:\\users\\pasindu senanayake\\appdata\\roaming\\python\\python310\\site-packages (from matplotlib>=3.0.0->mlxtend) (21.3)\n",
      "Requirement already satisfied: pytz>=2020.1 in c:\\users\\pasindu senanayake\\appdata\\local\\programs\\python\\python310\\lib\\site-packages (from pandas>=0.24.2->mlxtend) (2022.2.1)\n",
      "Requirement already satisfied: threadpoolctl>=2.0.0 in c:\\users\\pasindu senanayake\\appdata\\local\\programs\\python\\python310\\lib\\site-packages (from scikit-learn>=1.0.2->mlxtend) (3.1.0)\n",
      "Requirement already satisfied: six>=1.5 in c:\\users\\pasindu senanayake\\appdata\\roaming\\python\\python310\\site-packages (from python-dateutil>=2.7->matplotlib>=3.0.0->mlxtend) (1.16.0)\n"
     ]
    },
    {
     "name": "stderr",
     "output_type": "stream",
     "text": [
      "WARNING: You are using pip version 22.0.4; however, version 22.3 is available.\n",
      "You should consider upgrading via the 'C:\\Users\\Pasindu Senanayake\\AppData\\Local\\Programs\\Python\\Python310\\python.exe -m pip install --upgrade pip' command.\n"
     ]
    }
   ],
   "source": [
    "!pip install mlxtend\n",
    "from mlxtend.frequent_patterns import apriori\n",
    "from mlxtend.frequent_patterns import association_rules"
   ]
  },
  {
   "cell_type": "code",
   "execution_count": 3,
   "metadata": {},
   "outputs": [],
   "source": [
    "df = pd.read_csv(\"../Data Set/associationRule_dataset.csv\", header= None)\n",
    "df.columns = [\"ID\",\"Date\",\"Items\"]"
   ]
  },
  {
   "cell_type": "code",
   "execution_count": 4,
   "metadata": {},
   "outputs": [],
   "source": [
    "df.drop('Date', inplace=True, axis=1)"
   ]
  },
  {
   "cell_type": "code",
   "execution_count": 5,
   "metadata": {},
   "outputs": [],
   "source": [
    "df.drop(0, inplace=True, axis=0)"
   ]
  },
  {
   "cell_type": "code",
   "execution_count": 6,
   "metadata": {},
   "outputs": [],
   "source": [
    "df1 = df.groupby('ID')['Items'].apply(','.join).reset_index()\n",
    "pd.set_option('display.max_rows', df.shape[0] + 1)"
   ]
  },
  {
   "cell_type": "code",
   "execution_count": 7,
   "metadata": {},
   "outputs": [],
   "source": [
    "transac = []\n",
    "for i in range(0, len(df1)):\n",
    "    transac.append([str(df1.values[i, j]) for j in range(0, 2) if str(df1.values[i, j]) != '0'])"
   ]
  },
  {
   "cell_type": "code",
   "execution_count": 8,
   "metadata": {},
   "outputs": [],
   "source": [
    "itemArray = df['Items'].unique()"
   ]
  },
  {
   "cell_type": "code",
   "execution_count": 9,
   "metadata": {},
   "outputs": [],
   "source": [
    "df = df.groupby('ID')['Items'].apply(','.join).reset_index()"
   ]
  },
  {
   "cell_type": "code",
   "execution_count": 10,
   "metadata": {},
   "outputs": [],
   "source": [
    "for i in range(0, len(itemArray)):\n",
    "    df.insert(len(df.columns), itemArray[i], \"\")\n",
    "    for index, row in df.iterrows():\n",
    "        df.at[index, itemArray[i]] = 1 if len(\n",
    "            [1 for item in transac[index][1].split(\",\") if item in itemArray[i]]) > 0 else 0"
   ]
  },
  {
   "cell_type": "code",
   "execution_count": 11,
   "metadata": {},
   "outputs": [],
   "source": [
    "df.drop('Items', inplace=True, axis=1)"
   ]
  },
  {
   "cell_type": "code",
   "execution_count": 12,
   "metadata": {},
   "outputs": [
    {
     "name": "stderr",
     "output_type": "stream",
     "text": [
      "c:\\Users\\Pasindu Senanayake\\AppData\\Local\\Programs\\Python\\Python310\\lib\\site-packages\\mlxtend\\frequent_patterns\\fpcommon.py:111: DeprecationWarning: DataFrames with non-bool types result in worse computationalperformance and their support might be discontinued in the future.Please use a DataFrame with bool type\n",
      "  warnings.warn(\n"
     ]
    }
   ],
   "source": [
    "frequent_itemsets = apriori(df.drop(['ID'], axis=1), min_support=0.20, use_colnames=True)\n",
    "frequent_itemsets['length'] = frequent_itemsets['itemsets'].apply(lambda x: len(x))\n",
    "rules = association_rules(frequent_itemsets, metric=\"confidence\", min_threshold=0.1)"
   ]
  },
  {
   "cell_type": "code",
   "execution_count": 13,
   "metadata": {},
   "outputs": [
    {
     "name": "stdout",
     "output_type": "stream",
     "text": [
      "313038\n"
     ]
    }
   ],
   "source": [
    "print(len(rules))"
   ]
  },
  {
   "cell_type": "code",
   "execution_count": 14,
   "metadata": {},
   "outputs": [
    {
     "data": {
      "text/html": [
       "<div>\n",
       "<style scoped>\n",
       "    .dataframe tbody tr th:only-of-type {\n",
       "        vertical-align: middle;\n",
       "    }\n",
       "\n",
       "    .dataframe tbody tr th {\n",
       "        vertical-align: top;\n",
       "    }\n",
       "\n",
       "    .dataframe thead th {\n",
       "        text-align: right;\n",
       "    }\n",
       "</style>\n",
       "<table border=\"1\" class=\"dataframe\">\n",
       "  <thead>\n",
       "    <tr style=\"text-align: right;\">\n",
       "      <th></th>\n",
       "      <th>antecedents</th>\n",
       "      <th>consequents</th>\n",
       "      <th>antecedent support</th>\n",
       "      <th>consequent support</th>\n",
       "      <th>support</th>\n",
       "      <th>confidence</th>\n",
       "      <th>lift</th>\n",
       "      <th>leverage</th>\n",
       "      <th>conviction</th>\n",
       "    </tr>\n",
       "  </thead>\n",
       "  <tbody>\n",
       "    <tr>\n",
       "      <th>0</th>\n",
       "      <td>(pork)</td>\n",
       "      <td>(sandwich bags)</td>\n",
       "      <td>0.505804</td>\n",
       "      <td>0.522388</td>\n",
       "      <td>0.321725</td>\n",
       "      <td>0.636066</td>\n",
       "      <td>1.217611</td>\n",
       "      <td>0.057499</td>\n",
       "      <td>1.312357</td>\n",
       "    </tr>\n",
       "    <tr>\n",
       "      <th>1</th>\n",
       "      <td>(sandwich bags)</td>\n",
       "      <td>(pork)</td>\n",
       "      <td>0.522388</td>\n",
       "      <td>0.505804</td>\n",
       "      <td>0.321725</td>\n",
       "      <td>0.615873</td>\n",
       "      <td>1.217611</td>\n",
       "      <td>0.057499</td>\n",
       "      <td>1.286542</td>\n",
       "    </tr>\n",
       "    <tr>\n",
       "      <th>2</th>\n",
       "      <td>(pork)</td>\n",
       "      <td>(lunch meat)</td>\n",
       "      <td>0.505804</td>\n",
       "      <td>0.555556</td>\n",
       "      <td>0.331675</td>\n",
       "      <td>0.655738</td>\n",
       "      <td>1.180328</td>\n",
       "      <td>0.050673</td>\n",
       "      <td>1.291005</td>\n",
       "    </tr>\n",
       "    <tr>\n",
       "      <th>3</th>\n",
       "      <td>(lunch meat)</td>\n",
       "      <td>(pork)</td>\n",
       "      <td>0.555556</td>\n",
       "      <td>0.505804</td>\n",
       "      <td>0.331675</td>\n",
       "      <td>0.597015</td>\n",
       "      <td>1.180328</td>\n",
       "      <td>0.050673</td>\n",
       "      <td>1.226337</td>\n",
       "    </tr>\n",
       "    <tr>\n",
       "      <th>4</th>\n",
       "      <td>(pork)</td>\n",
       "      <td>(all- purpose)</td>\n",
       "      <td>0.505804</td>\n",
       "      <td>0.535655</td>\n",
       "      <td>0.323383</td>\n",
       "      <td>0.639344</td>\n",
       "      <td>1.193575</td>\n",
       "      <td>0.052446</td>\n",
       "      <td>1.287502</td>\n",
       "    </tr>\n",
       "  </tbody>\n",
       "</table>\n",
       "</div>"
      ],
      "text/plain": [
       "       antecedents      consequents  antecedent support  consequent support  \\\n",
       "0           (pork)  (sandwich bags)            0.505804            0.522388   \n",
       "1  (sandwich bags)           (pork)            0.522388            0.505804   \n",
       "2           (pork)     (lunch meat)            0.505804            0.555556   \n",
       "3     (lunch meat)           (pork)            0.555556            0.505804   \n",
       "4           (pork)   (all- purpose)            0.505804            0.535655   \n",
       "\n",
       "    support  confidence      lift  leverage  conviction  \n",
       "0  0.321725    0.636066  1.217611  0.057499    1.312357  \n",
       "1  0.321725    0.615873  1.217611  0.057499    1.286542  \n",
       "2  0.331675    0.655738  1.180328  0.050673    1.291005  \n",
       "3  0.331675    0.597015  1.180328  0.050673    1.226337  \n",
       "4  0.323383    0.639344  1.193575  0.052446    1.287502  "
      ]
     },
     "execution_count": 14,
     "metadata": {},
     "output_type": "execute_result"
    }
   ],
   "source": [
    "rules.head()"
   ]
  },
  {
   "cell_type": "code",
   "execution_count": 15,
   "metadata": {},
   "outputs": [
    {
     "name": "stderr",
     "output_type": "stream",
     "text": [
      "WARNING: You are using pip version 22.0.4; however, version 22.3 is available.\n",
      "You should consider upgrading via the 'C:\\Users\\Pasindu Senanayake\\AppData\\Local\\Programs\\Python\\Python310\\python.exe -m pip install --upgrade pip' command.\n"
     ]
    },
    {
     "name": "stdout",
     "output_type": "stream",
     "text": [
      "Requirement already satisfied: matplotlib in c:\\users\\pasindu senanayake\\appdata\\local\\programs\\python\\python310\\lib\\site-packages (3.6.1)\n",
      "Requirement already satisfied: contourpy>=1.0.1 in c:\\users\\pasindu senanayake\\appdata\\local\\programs\\python\\python310\\lib\\site-packages (from matplotlib) (1.0.5)\n",
      "Requirement already satisfied: cycler>=0.10 in c:\\users\\pasindu senanayake\\appdata\\local\\programs\\python\\python310\\lib\\site-packages (from matplotlib) (0.11.0)\n",
      "Requirement already satisfied: numpy>=1.19 in c:\\users\\pasindu senanayake\\appdata\\local\\programs\\python\\python310\\lib\\site-packages (from matplotlib) (1.23.3)\n",
      "Requirement already satisfied: pyparsing>=2.2.1 in c:\\users\\pasindu senanayake\\appdata\\roaming\\python\\python310\\site-packages (from matplotlib) (3.0.9)\n",
      "Requirement already satisfied: packaging>=20.0 in c:\\users\\pasindu senanayake\\appdata\\roaming\\python\\python310\\site-packages (from matplotlib) (21.3)\n",
      "Requirement already satisfied: pillow>=6.2.0 in c:\\users\\pasindu senanayake\\appdata\\local\\programs\\python\\python310\\lib\\site-packages (from matplotlib) (9.2.0)\n",
      "Requirement already satisfied: kiwisolver>=1.0.1 in c:\\users\\pasindu senanayake\\appdata\\local\\programs\\python\\python310\\lib\\site-packages (from matplotlib) (1.4.4)\n",
      "Requirement already satisfied: fonttools>=4.22.0 in c:\\users\\pasindu senanayake\\appdata\\local\\programs\\python\\python310\\lib\\site-packages (from matplotlib) (4.37.4)\n",
      "Requirement already satisfied: python-dateutil>=2.7 in c:\\users\\pasindu senanayake\\appdata\\roaming\\python\\python310\\site-packages (from matplotlib) (2.8.2)\n",
      "Requirement already satisfied: six>=1.5 in c:\\users\\pasindu senanayake\\appdata\\roaming\\python\\python310\\site-packages (from python-dateutil>=2.7->matplotlib) (1.16.0)\n"
     ]
    }
   ],
   "source": [
    "!pip install matplotlib\n",
    "import matplotlib.pyplot as plt"
   ]
  },
  {
   "cell_type": "code",
   "execution_count": 16,
   "metadata": {},
   "outputs": [],
   "source": [
    "pickle.dump(rules, open('rules.pkl', 'wb'))"
   ]
  }
 ],
 "metadata": {
  "kernelspec": {
   "display_name": "Python 3.10.5 64-bit",
   "language": "python",
   "name": "python3"
  },
  "language_info": {
   "codemirror_mode": {
    "name": "ipython",
    "version": 3
   },
   "file_extension": ".py",
   "mimetype": "text/x-python",
   "name": "python",
   "nbconvert_exporter": "python",
   "pygments_lexer": "ipython3",
   "version": "3.10.5"
  },
  "orig_nbformat": 4,
  "vscode": {
   "interpreter": {
    "hash": "167c27fbef304fbc8a1090e198819689110ce703c2d06457c5b3978cca494ca7"
   }
  }
 },
 "nbformat": 4,
 "nbformat_minor": 2
}
